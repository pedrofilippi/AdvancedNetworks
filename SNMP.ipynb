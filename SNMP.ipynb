{
 "cells": [
  {
   "cell_type": "markdown",
   "metadata": {},
   "source": [
    "# SNMP - Simple Network Management Protocol\n",
    "\n",
    "## Install snmpd tools, agent and mibs"
   ]
  },
  {
   "cell_type": "code",
   "execution_count": 18,
   "metadata": {},
   "outputs": [
    {
     "name": "stderr",
     "output_type": "stream",
     "text": [
      "\n",
      "WARNING: apt does not have a stable CLI interface. Use with caution in scripts.\n",
      "\n"
     ]
    },
    {
     "name": "stdout",
     "output_type": "stream",
     "text": [
      "Get:1 http://security.ubuntu.com/ubuntu focal-security InRelease [128 kB]\n",
      "Hit:2 https://packages.microsoft.com/repos/microsoft-ubuntu-focal-prod focal InRelease\n",
      "Get:3 https://dl.yarnpkg.com/debian stable InRelease [17.1 kB]\n",
      "Hit:4 https://repo.anaconda.com/pkgs/misc/debrepo/conda stable InRelease\n",
      "Hit:5 http://archive.ubuntu.com/ubuntu focal InRelease\n",
      "Get:6 http://archive.ubuntu.com/ubuntu focal-updates InRelease [128 kB]\n",
      "Get:7 http://security.ubuntu.com/ubuntu focal-security/multiverse amd64 Packages [30.9 kB]\n",
      "Get:8 http://security.ubuntu.com/ubuntu focal-security/main amd64 Packages [3711 kB]\n",
      "Get:9 http://security.ubuntu.com/ubuntu focal-security/universe amd64 Packages [1214 kB]\n",
      "Get:10 http://security.ubuntu.com/ubuntu focal-security/restricted amd64 Packages [3671 kB]\n",
      "Hit:11 http://archive.ubuntu.com/ubuntu focal-backports InRelease\n",
      "Hit:12 https://packagecloud.io/github/git-lfs/ubuntu focal InRelease\n",
      "Get:13 http://archive.ubuntu.com/ubuntu focal-updates/restricted amd64 Packages [3855 kB]\n",
      "Get:14 http://archive.ubuntu.com/ubuntu focal-updates/universe amd64 Packages [1512 kB]\n",
      "Get:15 http://archive.ubuntu.com/ubuntu focal-updates/main amd64 Packages [4214 kB]\n",
      "Fetched 18.5 MB in 2s (10.1 MB/s)\n",
      "Reading package lists...\n",
      "Building dependency tree...\n",
      "Reading state information...\n",
      "28 packages can be upgraded. Run 'apt list --upgradable' to see them.\n"
     ]
    },
    {
     "name": "stderr",
     "output_type": "stream",
     "text": [
      "\n",
      "WARNING: apt does not have a stable CLI interface. Use with caution in scripts.\n",
      "\n"
     ]
    },
    {
     "name": "stdout",
     "output_type": "stream",
     "text": [
      "Reading package lists...\n",
      "Building dependency tree...\n",
      "Reading state information...\n",
      "snmp-mibs-downloader is already the newest version (1.2).\n",
      "snmp is already the newest version (5.8+dfsg-2ubuntu2.9).\n",
      "snmpd is already the newest version (5.8+dfsg-2ubuntu2.9).\n",
      "0 upgraded, 0 newly installed, 0 to remove and 28 not upgraded.\n"
     ]
    }
   ],
   "source": [
    "%%bash\n",
    "\n",
    "sudo apt update\n",
    "sudo apt install -y snmp snmpd snmp-mibs-downloader"
   ]
  },
  {
   "cell_type": "markdown",
   "metadata": {},
   "source": [
    "## Configure agent configuration file (/etc/snmp/snmpd.conf) and snmp tools configuration file (/etc/snmp/snmp.conf)"
   ]
  },
  {
   "cell_type": "code",
   "execution_count": 19,
   "metadata": {},
   "outputs": [],
   "source": [
    "%%bash\n",
    "\n",
    "sudo mv /etc/snmp/snmpd.conf /etc/snmp/snmpd.conf.old\n",
    "\n",
    "sudo tee /etc/snmp/snmpd.conf > /dev/null <<EOF\n",
    "rocommunity public\n",
    "rwcommunity private\n",
    "EOF\n",
    "\n",
    "sudo sed -i '/mibs :/s/^/#/' /etc/snmp/snmp.conf"
   ]
  },
  {
   "cell_type": "markdown",
   "metadata": {},
   "source": [
    "## Start snmpd daemon (agent)"
   ]
  },
  {
   "cell_type": "code",
   "execution_count": 33,
   "metadata": {},
   "outputs": [
    {
     "name": "stdout",
     "output_type": "stream",
     "text": [
      " * snmpd is running\n"
     ]
    }
   ],
   "source": [
    "%%bash\n",
    "\n",
    "sudo service snmpd restart\n",
    "sudo service snmpd status"
   ]
  },
  {
   "cell_type": "markdown",
   "metadata": {},
   "source": [
    "## List all downloaded mibs"
   ]
  },
  {
   "cell_type": "code",
   "execution_count": 21,
   "metadata": {},
   "outputs": [
    {
     "name": "stdout",
     "output_type": "stream",
     "text": [
      "/usr/share/snmp/mibs:\n",
      "AIRCONDITIONER-MIB.txt\n",
      "GNOME-SMI.txt\n",
      "LM-SENSORS-MIB.txt\n",
      "NET-SNMP-AGENT-MIB.txt\n",
      "NET-SNMP-EXAMPLES-MIB.txt\n",
      "NET-SNMP-EXTEND-MIB.txt\n",
      "NET-SNMP-MIB.txt\n",
      "NET-SNMP-MONITOR-MIB.txt\n",
      "NET-SNMP-PASS-MIB.txt\n",
      "NET-SNMP-PERIODIC-NOTIFY-MIB.txt\n",
      "NET-SNMP-SYSTEM-MIB.txt\n",
      "NET-SNMP-TC.txt\n",
      "NET-SNMP-VACM-MIB.txt\n",
      "UCD-DEMO-MIB.txt\n",
      "UCD-DISKIO-MIB.txt\n",
      "UCD-DLMOD-MIB.txt\n",
      "UCD-IPFILTER-MIB.txt\n",
      "UCD-IPFWACC-MIB.txt\n",
      "UCD-SNMP-MIB-OLD.txt\n",
      "UCD-SNMP-MIB.txt\n",
      "iana\n",
      "ietf\n"
     ]
    }
   ],
   "source": [
    "%%bash\n",
    "\n",
    "ls -R /usr/share/snmp/mibs"
   ]
  },
  {
   "cell_type": "markdown",
   "metadata": {},
   "source": [
    "## Show RFC1213 object tree"
   ]
  },
  {
   "cell_type": "code",
   "execution_count": 22,
   "metadata": {},
   "outputs": [
    {
     "name": "stderr",
     "output_type": "stream",
     "text": [
      "Unlinked OID in AIRCONDITIONER-MIB: airConditioner ::= { experimental 99999 }\n",
      "Undefined identifier: experimental near line 7 of /usr/share/snmp/mibs/AIRCONDITIONER-MIB.txt\n"
     ]
    },
    {
     "name": "stdout",
     "output_type": "stream",
     "text": [
      "+--iso(1)\n",
      "   |\n",
      "   +--org(3)\n",
      "      |\n",
      "      +--dod(6)\n",
      "         |\n",
      "         +--internet(1)\n",
      "            |\n",
      "            +--directory(1)\n",
      "            |\n",
      "            +--mgmt(2)\n",
      "            |  |\n",
      "            |  +--mib-2(1)\n",
      "            |     |\n",
      "            |     +--transmission(10)\n",
      "            |\n",
      "            +--experimental(3)\n",
      "            |  |\n",
      "            |  +--airConditioner(99999)\n",
      "            |     |\n",
      "            |     +--acMainObjects(1)\n",
      "            |        |\n",
      "            |        +-- -RW- EnumVal   acStatus(1)\n",
      "            |        |        Values: off(0), on(1)\n",
      "            |        +-- -R-- Integer32 acCurrentTemperature(2)\n",
      "            |        |        Range: -30..50\n",
      "            |        +-- -RW- Integer32 acDesiredTemperature(3)\n",
      "            |        |        Range: -30..50\n",
      "            |        +-- -RW- EnumVal   acMode(4)\n",
      "            |        |        Values: auto(1), cool(2), heat(3), fan(4)\n",
      "            |        +-- -RW- EnumVal   acFanSpeed(5)\n",
      "            |        |        Values: low(1), medium(2), high(3)\n",
      "            |        +-- -R-- String    acErrorMessage(6)\n",
      "            |                 Textual Convention: DisplayString\n",
      "            |                 Size: 0..255\n",
      "            |\n",
      "            +--private(4)\n",
      "            |  |\n",
      "            |  +--enterprises(1)\n",
      "            |\n",
      "            +--security(5)\n",
      "            |\n",
      "            +--snmpV2(6)\n",
      "               |\n",
      "               +--snmpDomains(1)\n",
      "               |\n",
      "               +--snmpProxys(2)\n",
      "               |\n",
      "               +--snmpModules(3)\n"
     ]
    }
   ],
   "source": [
    "%%bash\n",
    "\n",
    "# Variables\n",
    "MIB=\"/usr/share/snmp/mibs/AIRCONDITIONER-MIB.txt\"\n",
    "\n",
    "snmptranslate -m $MIB -Tp"
   ]
  },
  {
   "cell_type": "markdown",
   "metadata": {},
   "source": [
    "## Show the description of a specific object"
   ]
  },
  {
   "cell_type": "code",
   "execution_count": 23,
   "metadata": {},
   "outputs": [
    {
     "name": "stdout",
     "output_type": "stream",
     "text": [
      "sysDescr OBJECT-TYPE\n",
      "    SYNTAX  DisplayString (SIZE (0..255))\n",
      "    ACCESS  read-only\n",
      "    STATUS  mandatory\n",
      "    DESCRIPTION\n",
      "            \"A textual description of the entity.  This value\n",
      "            should include the full name and version\n",
      "            identification of the system's hardware type,\n",
      "            software operating-system, and networking\n",
      "            software.  It is mandatory that this only contain\n",
      "            printable ASCII characters.\"\n",
      "    ::= { system 1 }\n"
     ]
    }
   ],
   "source": [
    "%%bash\n",
    "\n",
    "# Variables\n",
    "OBJECT=\"sysDescr\"\n",
    "MIB=\"/usr/share/snmp/mibs/ietf/RFC1213-MIB\"\n",
    "\n",
    "# Command to extract text from search_string to } excluding the }\n",
    "sed -n \"/$OBJECT OBJECT-TYPE/,/}/p\" $MIB"
   ]
  },
  {
   "cell_type": "markdown",
   "metadata": {},
   "source": [
    "## Using snmpget"
   ]
  },
  {
   "cell_type": "code",
   "execution_count": 24,
   "metadata": {},
   "outputs": [
    {
     "name": "stdout",
     "output_type": "stream",
     "text": [
      "SNMPv2-MIB::sysDescr.0 = STRING: Linux codespaces-396979 6.5.0-1021-azure #22~22.04.1-Ubuntu SMP Tue Apr 30 16:08:18 UTC 2024 x86_64\n",
      "SNMPv2-MIB::sysContact.0 = STRING: admin@localhost\n"
     ]
    }
   ],
   "source": [
    "%%bash\n",
    "\n",
    "# snmpget -v <SNMP version> -c <community> <host> <obj1> <obj2> <obj3> \n",
    "\n",
    "snmpget -v 1 -c public localhost sysDescr.0 sysContact.0"
   ]
  },
  {
   "cell_type": "markdown",
   "metadata": {},
   "source": [
    "## Using snmpset"
   ]
  },
  {
   "cell_type": "code",
   "execution_count": 25,
   "metadata": {},
   "outputs": [
    {
     "name": "stdout",
     "output_type": "stream",
     "text": [
      "SNMPv2-MIB::sysContact.0 = STRING: admin@localhost\n"
     ]
    },
    {
     "name": "stdout",
     "output_type": "stream",
     "text": [
      "SNMPv2-MIB::sysContact.0 = STRING: admin@localhost\n"
     ]
    }
   ],
   "source": [
    "%%bash\n",
    "\n",
    "snmpset -v 1 -c private localhost sysContact.0 s admin@localhost\n",
    "snmpget -v 1 -c public localhost sysContact.0"
   ]
  },
  {
   "cell_type": "markdown",
   "metadata": {},
   "source": [
    "## Using snmpgetnext"
   ]
  },
  {
   "cell_type": "code",
   "execution_count": null,
   "metadata": {},
   "outputs": [],
   "source": [
    "%%bash\n",
    "\n",
    "snmpgetnext -v 1 -c public localhost system interfaces"
   ]
  },
  {
   "cell_type": "markdown",
   "metadata": {},
   "source": [
    "## Using snmpwalk"
   ]
  },
  {
   "cell_type": "code",
   "execution_count": null,
   "metadata": {},
   "outputs": [],
   "source": [
    "%%bash\n",
    "\n",
    "# run on terminal: sudo tcpdump -i lo -n port 161 -v\n",
    "snmpwalk -v 1 -c public localhost system"
   ]
  },
  {
   "cell_type": "markdown",
   "metadata": {},
   "source": [
    "## Other commands"
   ]
  },
  {
   "cell_type": "code",
   "execution_count": null,
   "metadata": {},
   "outputs": [],
   "source": [
    "%%bash\n",
    "\n",
    "snmptable -v 1 -c public localhost ifTable"
   ]
  },
  {
   "cell_type": "code",
   "execution_count": null,
   "metadata": {},
   "outputs": [],
   "source": [
    "%%bash\n",
    "\n",
    "snmpdelta -v 1 -c public -Cs -CT localhost sysUpTime.0"
   ]
  },
  {
   "cell_type": "code",
   "execution_count": null,
   "metadata": {},
   "outputs": [],
   "source": [
    "%%bash\n",
    "\n",
    "killall snmpdelta"
   ]
  },
  {
   "cell_type": "markdown",
   "metadata": {},
   "source": [
    "## Exercícios - SNMPv1"
   ]
  },
  {
   "cell_type": "markdown",
   "metadata": {},
   "source": [
    "a) obter o endereço físico (MAC) da 2a. interface de rede da tabela ifTable"
   ]
  },
  {
   "cell_type": "code",
   "execution_count": null,
   "metadata": {},
   "outputs": [],
   "source": [
    "%%bash\n",
    "\n",
    "snmpget -v 1 -c public localhost ifPhysAddress.2"
   ]
  },
  {
   "cell_type": "markdown",
   "metadata": {},
   "source": [
    "b) obter o número de mensagens ICMP enviadas e recebidas pelo elemento gerenciado"
   ]
  },
  {
   "cell_type": "code",
   "execution_count": null,
   "metadata": {},
   "outputs": [],
   "source": [
    "%%bash\n",
    "\n",
    "snmpget -v 1 -c public localhost icmpInMsgs.0 icmpOutMsgs.0"
   ]
  },
  {
   "cell_type": "markdown",
   "metadata": {},
   "source": [
    "c) obter o número de requisições GET recebidos pelo agente no elemento gerenciado."
   ]
  },
  {
   "cell_type": "code",
   "execution_count": null,
   "metadata": {},
   "outputs": [],
   "source": [
    "%%bash\n",
    "\n",
    "snmpget -v 1 -c public localhost snmpInGetRequests.0"
   ]
  },
  {
   "cell_type": "markdown",
   "metadata": {},
   "source": [
    "d) modificar o nome do elemento gerenciado para \"Gerencia\""
   ]
  },
  {
   "cell_type": "code",
   "execution_count": null,
   "metadata": {},
   "outputs": [],
   "source": [
    "%%bash\n",
    "\n",
    "snmpset -v 1 -c private localhost sysName.0 s \"Gerencia\""
   ]
  },
  {
   "cell_type": "markdown",
   "metadata": {},
   "source": [
    "e) modificar a identificação da localização do elemento gerenciado para \"LabRedes\""
   ]
  },
  {
   "cell_type": "code",
   "execution_count": null,
   "metadata": {},
   "outputs": [],
   "source": [
    "%%bash\n",
    "\n",
    "snmpset -v 1 -c private localhost sysLocation.0 s \"LabRedes\""
   ]
  },
  {
   "cell_type": "markdown",
   "metadata": {},
   "source": [
    "f) obter a descrição da interface localizada na 1a. linha da tabela ifTable"
   ]
  },
  {
   "cell_type": "code",
   "execution_count": null,
   "metadata": {},
   "outputs": [],
   "source": [
    "%%bash\n",
    "\n",
    "snmpgetnext -v 1 -c public localhost ifDescr"
   ]
  },
  {
   "cell_type": "markdown",
   "metadata": {},
   "source": [
    "g) obter o endereço IP, índice da interface na tabela ifTable, máscara de rede e endereço de broadcast da primeira entrada da tabela ipAddrEntry"
   ]
  },
  {
   "cell_type": "code",
   "execution_count": null,
   "metadata": {},
   "outputs": [],
   "source": [
    "%%bash\n",
    "\n",
    "snmpgetnext -v 1 -c public localhost ipAdEntIfIndex ipAdEntNetMask ipAdEntBcastAddr"
   ]
  },
  {
   "cell_type": "markdown",
   "metadata": {},
   "source": [
    "h) obter o endereço local e porta local da primeira linha da tabela udpTable"
   ]
  },
  {
   "cell_type": "code",
   "execution_count": null,
   "metadata": {},
   "outputs": [],
   "source": [
    "%%bash\n",
    "\n",
    "snmpgetnext -v 1 -c public localhost udpLocalPort udpLocalAddress"
   ]
  },
  {
   "cell_type": "markdown",
   "metadata": {},
   "source": [
    "## Using snmpbulkget"
   ]
  },
  {
   "cell_type": "code",
   "execution_count": null,
   "metadata": {},
   "outputs": [],
   "source": [
    "%%bash\n",
    "\n",
    "snmpbulkget -v2c -c public localhost -Cn2 -Cr3 system interfaces ifIndex ifDescr ifSpeed"
   ]
  },
  {
   "cell_type": "code",
   "execution_count": null,
   "metadata": {},
   "outputs": [],
   "source": [
    "%%bash\n",
    "\n",
    "snmpbulkget -v2c -c public localhost -Cn4 -Cr5 tcpInSegs tcpOutSegs tcpRetransSegs tcpInErrs tcpConnState tcpConnLocalAddress tcpConnLocalPort tcpConnRemAddress tcpConnRemPort"
   ]
  },
  {
   "cell_type": "code",
   "execution_count": null,
   "metadata": {},
   "outputs": [],
   "source": [
    "%%bash\n",
    "\n",
    "snmpbulkget -v2c -c public localhost -Cn0 -Cr4 udpLocalAddress udpLocalPort"
   ]
  },
  {
   "cell_type": "markdown",
   "metadata": {},
   "source": [
    "## Comparing snmpwalk vs snmpbulkwalk\n",
    "\n"
   ]
  },
  {
   "cell_type": "code",
   "execution_count": null,
   "metadata": {},
   "outputs": [],
   "source": [
    "%%bash\n",
    "\n",
    "# run on terminal: sudo tcpdump -i lo -n port 161 -v\n",
    "# snmpwalk -v 1 -c public localhost system\n",
    "\n",
    "snmpbulkwalk -v 2c -c public localhost system"
   ]
  },
  {
   "cell_type": "markdown",
   "metadata": {},
   "source": [
    "# Example using pass directive"
   ]
  },
  {
   "cell_type": "markdown",
   "metadata": {},
   "source": [
    "## snmpd.conf"
   ]
  },
  {
   "cell_type": "code",
   "execution_count": 32,
   "metadata": {},
   "outputs": [
    {
     "name": "stdout",
     "output_type": "stream",
     "text": [
      " * snmpd is running\n"
     ]
    }
   ],
   "source": [
    "%%bash\n",
    "\n",
    "# Add pass directive to snmpd.conf\n",
    "sudo tee /etc/snmp/snmpd.conf > /dev/null <<EOF\n",
    "rocommunity public\n",
    "rwcommunity private\n",
    "\n",
    "pass .1.3.6.1.3.99999.1.1 /usr/bin/python3 /tmp/agent.py\n",
    "EOF\n",
    "\n",
    "# Restart agent\n",
    "sudo service snmpd restart\n",
    "sudo service snmpd status"
   ]
  },
  {
   "cell_type": "markdown",
   "metadata": {},
   "source": [
    "## Agent code"
   ]
  },
  {
   "cell_type": "code",
   "execution_count": 31,
   "metadata": {},
   "outputs": [
    {
     "name": "stdout",
     "output_type": "stream",
     "text": [
      "Overwriting /tmp/agent.py\n"
     ]
    }
   ],
   "source": [
    "%%writefile /tmp/agent.py\n",
    "\n",
    "#!/usr/bin/env python3\n",
    "\n",
    "import sys\n",
    "import datetime\n",
    "import socket\n",
    "\n",
    "# Variáveis para simular o estado do ar condicionado\n",
    "ac_status = 1  # 0: off, 1: on\n",
    "ac_current_temperature = 22  # Temperatura atual em Celsius\n",
    "ac_desired_temperature = 24  # Temperatura desejada em Celsius\n",
    "ac_mode = 2  # 1: auto, 2: cool, 3: heat, 4: fan\n",
    "ac_fan_speed = 3  # 1: low, 2: medium, 3: high\n",
    "ac_error_message = \"errooooo\"  # Mensagem de erro, se houver\n",
    "\n",
    "def get_ac_status():\n",
    "    return ac_status\n",
    "\n",
    "def get_ac_current_temperature():\n",
    "    return ac_current_temperature\n",
    "\n",
    "def get_ac_desired_temperature():\n",
    "    return ac_desired_temperature\n",
    "\n",
    "def get_ac_mode():\n",
    "    return ac_mode\n",
    "\n",
    "def get_ac_fan_speed():\n",
    "    return ac_fan_speed\n",
    "\n",
    "def get_ac_error_message():\n",
    "    return ac_error_message\n",
    "\n",
    "def set_ac_desired_temperature(value):\n",
    "    global ac_desired_temperature\n",
    "    ac_desired_temperature = value\n",
    "    return ac_desired_temperature\n",
    "\n",
    "def main():\n",
    "\n",
    "    with open(\"/tmp/agent.log\", 'w') as file:\n",
    "        file.write(' '.join(sys.argv))\n",
    "\n",
    "    if len(sys.argv) != 3:\n",
    "        print(\"Usage: agent.py <MIB-oid> <request-type>\")\n",
    "        return\n",
    "\n",
    "    request_type = sys.argv[1]\n",
    "    oid = sys.argv[2]\n",
    "\n",
    "    if request_type == \"-g\":  # GET request\n",
    "        if oid == \".1.3.6.1.3.99999.1.1.1\":\n",
    "            print(\".1.3.6.1.3.99999.1.1.1\")\n",
    "            print(\"integer\")\n",
    "            print(get_ac_status())\n",
    "        elif oid == \".1.3.6.1.3.99999.1.1.2\":\n",
    "            print(\".1.3.6.1.3.99999.1.1.1.2\")\n",
    "            print(\"integer\")\n",
    "            print(get_ac_current_temperature())\n",
    "        elif oid == \".1.3.6.1.3.99999.1.1.3\":\n",
    "            print(\".1.3.6.1.3.99999.1.1.3\")\n",
    "            print(\"integer\")\n",
    "            print(get_ac_desired_temperature())\n",
    "        elif oid == \".1.3.6.1.3.99999.1.1.4\":\n",
    "            print(\".1.3.6.1.4.1.99999.1.1.4\")\n",
    "            print(\"integer\")\n",
    "            print(get_ac_mode())\n",
    "        elif oid == \".1.3.6.1.3.99999.1.1.5\":\n",
    "            print(\".1.3.6.1.4.1.99999.1.1.5\")\n",
    "            print(\"integer\")\n",
    "            print(get_ac_fan_speed())\n",
    "        elif oid == \".1.3.6.1.3.99999.1.1.6\":\n",
    "            print(\".1.3.6.1.4.1.99999.1.1.6\")\n",
    "            print(\"string\")\n",
    "            print(get_ac_error_message())\n",
    "        else:\n",
    "            print(\"NONE\")\n",
    "    elif request_type == \"-s\":  # SET request\n",
    "        if oid == \".1.3.6.1.3.99999.1.1.3\":\n",
    "            try:\n",
    "                value = int(sys.argv[4])\n",
    "                result = set_ac_desired_temperature(value)\n",
    "                print(\".1.3.6.1.4.1.99999.1.1.3\")\n",
    "                print(\"integer\")\n",
    "                print(result)\n",
    "            except ValueError:\n",
    "                print(\"Invalid value\")\n",
    "        else:\n",
    "            print(\"NONE\")\n",
    "    else:\n",
    "        print(\"NONE\")\n",
    "\n",
    "if __name__ == \"__main__\":\n",
    "    main()\n"
   ]
  },
  {
   "cell_type": "markdown",
   "metadata": {},
   "source": [
    "## Testing"
   ]
  },
  {
   "cell_type": "code",
   "execution_count": 36,
   "metadata": {},
   "outputs": [
    {
     "name": "stdout",
     "output_type": "stream",
     "text": [
      "SNMPv2-SMI::experimental.999.1.1.0 = No Such Object available on this agent at this OID\n",
      "SNMPv2-SMI::experimental.999.1.1.1 = No Such Object available on this agent at this OID\n"
     ]
    }
   ],
   "source": [
    "%%bash\n",
    "\n",
    "snmpget -v2c -c public localhost .1.3.6.1.3.999.1.1.0\n",
    "snmpget -v2c -c public localhost .1.3.6.1.3.999.1.1.1"
   ]
  }
 ],
 "metadata": {
  "kernelspec": {
   "display_name": "Python 3",
   "language": "python",
   "name": "python3"
  },
  "language_info": {
   "codemirror_mode": {
    "name": "ipython",
    "version": 3
   },
   "file_extension": ".py",
   "mimetype": "text/x-python",
   "name": "python",
   "nbconvert_exporter": "python",
   "pygments_lexer": "ipython3",
   "version": "3.10.13"
  }
 },
 "nbformat": 4,
 "nbformat_minor": 2
}
